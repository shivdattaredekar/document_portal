{
 "cells": [
  {
   "cell_type": "code",
   "execution_count": 26,
   "id": "c69c4a1b",
   "metadata": {},
   "outputs": [],
   "source": [
    "import sys\n",
    "import traceback\n",
    "from logger.custom_logger import CustomLogger\n"
   ]
  },
  {
   "cell_type": "code",
   "execution_count": 27,
   "id": "0d7d2489",
   "metadata": {},
   "outputs": [],
   "source": [
    "logger = CustomLogger().get_logger()"
   ]
  },
  {
   "cell_type": "code",
   "execution_count": 28,
   "id": "54781811",
   "metadata": {},
   "outputs": [
    {
     "ename": "DocumentPortalException",
     "evalue": "Error occured in file [C:\\Users\\shivdatta redekar\\AppData\\Local\\Temp\\ipykernel_11520\\3927378577.py] at line [16]\n         with Error Message: division by zero\n         Traceback Traceback (most recent call last):\n  File \"C:\\Users\\shivdatta redekar\\AppData\\Local\\Temp\\ipykernel_11520\\3927378577.py\", line 16, in <module>\n    a = 1 / 0\n        ~~^~~\nZeroDivisionError: division by zero\n",
     "output_type": "error",
     "traceback": [
      "\u001b[31m---------------------------------------------------------------------------\u001b[39m",
      "\u001b[31mZeroDivisionError\u001b[39m                         Traceback (most recent call last)",
      "\u001b[36mCell\u001b[39m\u001b[36m \u001b[39m\u001b[32mIn[28]\u001b[39m\u001b[32m, line 16\u001b[39m\n\u001b[32m     15\u001b[39m \u001b[38;5;28;01mtry\u001b[39;00m:\n\u001b[32m---> \u001b[39m\u001b[32m16\u001b[39m     a = \u001b[32;43m1\u001b[39;49m\u001b[43m \u001b[49m\u001b[43m/\u001b[49m\u001b[43m \u001b[49m\u001b[32;43m0\u001b[39;49m\n\u001b[32m     17\u001b[39m     \u001b[38;5;28mprint\u001b[39m(a)\n",
      "\u001b[31mZeroDivisionError\u001b[39m: division by zero",
      "\nDuring handling of the above exception, another exception occurred:\n",
      "\u001b[31mDocumentPortalException\u001b[39m                   Traceback (most recent call last)",
      "\u001b[36mCell\u001b[39m\u001b[36m \u001b[39m\u001b[32mIn[28]\u001b[39m\u001b[32m, line 22\u001b[39m\n\u001b[32m     20\u001b[39m logger.error(b)\n\u001b[32m     21\u001b[39m logger.info(b.file_name)\n\u001b[32m---> \u001b[39m\u001b[32m22\u001b[39m \u001b[38;5;28;01mraise\u001b[39;00m b\n",
      "\u001b[31mDocumentPortalException\u001b[39m: Error occured in file [C:\\Users\\shivdatta redekar\\AppData\\Local\\Temp\\ipykernel_11520\\3927378577.py] at line [16]\n         with Error Message: division by zero\n         Traceback Traceback (most recent call last):\n  File \"C:\\Users\\shivdatta redekar\\AppData\\Local\\Temp\\ipykernel_11520\\3927378577.py\", line 16, in <module>\n    a = 1 / 0\n        ~~^~~\nZeroDivisionError: division by zero\n"
     ]
    }
   ],
   "source": [
    "class DocumentPortalException(Exception):\n",
    "    def __init__(self, error_message, error_details:sys):\n",
    "        _,_,exc_tb=error_details.exc_info()\n",
    "        self.file_name=exc_tb.tb_frame.f_code.co_filename\n",
    "        self.lineno=exc_tb.tb_lineno\n",
    "        self.error_message=str(error_message)\n",
    "        self.traceback_str=''.join(traceback.format_exception(*error_details.exc_info()))\n",
    "    def __str__(self):\n",
    "        return f\"\"\"Error occured in file [{self.file_name}] at line [{self.lineno}]\n",
    "         with Error Message: {self.error_message}\n",
    "         Traceback {self.traceback_str}\"\"\"\n",
    "\n",
    "\n",
    "if __name__ == '__main__':\n",
    "    try:\n",
    "        a = 1 / 0\n",
    "        print(a)\n",
    "    except Exception as e:\n",
    "        b = DocumentPortalException(e, sys)\n",
    "        logger.error(b)\n",
    "        logger.info(b.file_name)\n",
    "        raise b"
   ]
  },
  {
   "cell_type": "code",
   "execution_count": null,
   "id": "212c4883",
   "metadata": {},
   "outputs": [],
   "source": [
    "from datetime import datetime\n",
    "import uuid\n",
    "session_id = f'session_{datetime.now()}'\n",
    "session_id"
   ]
  },
  {
   "cell_type": "code",
   "execution_count": null,
   "id": "9b9ab3b4",
   "metadata": {},
   "outputs": [],
   "source": []
  },
  {
   "cell_type": "code",
   "execution_count": null,
   "id": "3b407085",
   "metadata": {},
   "outputs": [],
   "source": []
  },
  {
   "cell_type": "code",
   "execution_count": null,
   "id": "b761ac58",
   "metadata": {},
   "outputs": [],
   "source": []
  },
  {
   "cell_type": "code",
   "execution_count": null,
   "id": "c5a91dc4",
   "metadata": {},
   "outputs": [],
   "source": []
  }
 ],
 "metadata": {
  "kernelspec": {
   "display_name": ".venv (3.11.1)",
   "language": "python",
   "name": "python3"
  },
  "language_info": {
   "codemirror_mode": {
    "name": "ipython",
    "version": 3
   },
   "file_extension": ".py",
   "mimetype": "text/x-python",
   "name": "python",
   "nbconvert_exporter": "python",
   "pygments_lexer": "ipython3",
   "version": "3.11.1"
  }
 },
 "nbformat": 4,
 "nbformat_minor": 5
}
