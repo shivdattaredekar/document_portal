{
 "cells": [
  {
   "cell_type": "code",
   "execution_count": 12,
   "id": "e2786e30",
   "metadata": {},
   "outputs": [],
   "source": [
    "import logging\n",
    "import os\n",
    "from datetime import datetime"
   ]
  },
  {
   "cell_type": "code",
   "execution_count": 13,
   "id": "e44b941a",
   "metadata": {},
   "outputs": [
    {
     "data": {
      "text/plain": [
       "'d:\\\\Datascience\\\\LLMOops Course\\\\document_portal\\\\notebook\\\\logs'"
      ]
     },
     "execution_count": 13,
     "metadata": {},
     "output_type": "execute_result"
    }
   ],
   "source": [
    "logs_dir = os.path.join(os.getcwd(),\"logs\")\n",
    "logs_dir"
   ]
  },
  {
   "cell_type": "code",
   "execution_count": 14,
   "id": "d17246f7",
   "metadata": {},
   "outputs": [],
   "source": [
    "os.makedirs(logs_dir, exist_ok=True)"
   ]
  },
  {
   "cell_type": "code",
   "execution_count": 15,
   "id": "8764d254",
   "metadata": {},
   "outputs": [
    {
     "data": {
      "text/plain": [
       "'08_23_2025_14_31_45.log'"
      ]
     },
     "execution_count": 15,
     "metadata": {},
     "output_type": "execute_result"
    }
   ],
   "source": [
    "LOG_FILE = f\"{datetime.now().strftime('%m_%d_%Y_%H_%M_%S')}.log\"\n",
    "LOG_FILE"
   ]
  },
  {
   "cell_type": "code",
   "execution_count": 19,
   "id": "53745667",
   "metadata": {},
   "outputs": [
    {
     "data": {
      "text/plain": [
       "'d:\\\\Datascience\\\\LLMOops Course\\\\document_portal\\\\notebook\\\\logs\\\\08_23_2025_14_31_45.log'"
      ]
     },
     "execution_count": 19,
     "metadata": {},
     "output_type": "execute_result"
    }
   ],
   "source": [
    "LOG_FILE_PATH = os.path.join(logs_dir,LOG_FILE)\n",
    "LOG_FILE_PATH"
   ]
  },
  {
   "cell_type": "code",
   "execution_count": 20,
   "id": "e79706f4",
   "metadata": {},
   "outputs": [],
   "source": [
    "logging.basicConfig(\n",
    "    filename=LOG_FILE_PATH,\n",
    "    format=\"[ %(asctime)s ] %(levelname)s %(name)s (line:%(lineno)d) - %(message)s\",\n",
    "    level=logging.INFO\n",
    ")"
   ]
  },
  {
   "cell_type": "code",
   "execution_count": 21,
   "id": "f289716b",
   "metadata": {},
   "outputs": [],
   "source": [
    "logger = logging.getLogger(\"DocumentPortal\")\n",
    "\n",
    "logger.info(\"This is a test log message\")"
   ]
  },
  {
   "cell_type": "code",
   "execution_count": 22,
   "id": "3a7ecba8",
   "metadata": {},
   "outputs": [],
   "source": [
    "try:\n",
    "    a = 1/0\n",
    "except Exception as e:\n",
    "    logger.error(e)"
   ]
  },
  {
   "cell_type": "code",
   "execution_count": 24,
   "id": "fbe06e50",
   "metadata": {},
   "outputs": [
    {
     "data": {
      "text/plain": [
       "'d:\\\\Datascience\\\\LLMOops Course\\\\document_portal\\\\notebook\\\\logs\\\\08_23_2025_14_31_45.log'"
      ]
     },
     "execution_count": 24,
     "metadata": {},
     "output_type": "execute_result"
    }
   ],
   "source": [
    "LOG_FILE_PATH"
   ]
  },
  {
   "cell_type": "code",
   "execution_count": 23,
   "id": "4c8fd402",
   "metadata": {},
   "outputs": [
    {
     "data": {
      "text/plain": [
       "'08_23_2025_14_31_45.log'"
      ]
     },
     "execution_count": 23,
     "metadata": {},
     "output_type": "execute_result"
    }
   ],
   "source": [
    "os.path.basename(LOG_FILE_PATH)"
   ]
  },
  {
   "cell_type": "code",
   "execution_count": null,
   "id": "4ec62c7f",
   "metadata": {},
   "outputs": [],
   "source": []
  }
 ],
 "metadata": {
  "kernelspec": {
   "display_name": ".venv (3.11.1)",
   "language": "python",
   "name": "python3"
  },
  "language_info": {
   "codemirror_mode": {
    "name": "ipython",
    "version": 3
   },
   "file_extension": ".py",
   "mimetype": "text/x-python",
   "name": "python",
   "nbconvert_exporter": "python",
   "pygments_lexer": "ipython3",
   "version": "3.11.1"
  }
 },
 "nbformat": 4,
 "nbformat_minor": 5
}
